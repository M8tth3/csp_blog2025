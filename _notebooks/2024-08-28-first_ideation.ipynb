{
 "cells": [
  {
   "cell_type": "markdown",
   "metadata": {},
   "source": [
    "---\n",
    "toc: True\n",
    "comments: True\n",
    "layout: post\n",
    "title: Website Brain Write\n",
    "description: This class will require you to make a Portfolio 2025 Web Site, a GitHub Account, a Slack Account, and as part of final exam will require you update your LinkedIn account.\n",
    "type: ccc\n",
    "courses: { csa: {week: 0} }\n",
    "---"
   ]
  },
  {
   "cell_type": "markdown",
   "metadata": {},
   "source": [
    "## Brain Write For What I Want My Website To Be\n",
    "\n",
    "- Make a digital bathroom pass. There shouldn't be any paper in the CSA classroom. \n",
    "- Make a progress bar for swimming goals\n",
    "- Junior year is going to be a very hectic year so its important to have a scheduler. Combines all the class calendars I have access to and displays assignments on a master calendar.\n",
    "- Struggling to make breakfast. The other day I had plain chicken on a plain piece of bread. Display easy fast recipes(web scraping api)\n",
    "- Consistently update a \"tips\" page to log neat tips like creating an alias."
   ]
  },
  {
   "cell_type": "markdown",
   "metadata": {},
   "source": [
    "## Digital Bathroom Pass\n",
    "\n",
    "Using the bathroom is a basic human right that all students should be able to easily access. However, with the introduction of paper bathroom passes and less access to bathrooms this right has been infringed. \n",
    "\n",
    "That's why, we decided to make it easier to have access to the bathroom pass in our class where we can't use paper.\n",
    "<img src=\"https://github.com/user-attachments/assets/d9191b7d-a523-456e-a615-b1dfb6ba36c1\" width='300px' height='auto'>\n",
    "<img src=\"https://github.com/user-attachments/assets/e2997034-3159-4f28-822c-23c5d3cf712a\" width='300px' height='auto'>\n",
    "\n"
   ]
  },
  {
   "cell_type": "markdown",
   "metadata": {},
   "source": [
    "<img src=\"https://github.com/user-attachments/assets/8223eaf0-9e69-4a7c-88d9-5da9e560d922\" width='300px' height='auto'>\n"
   ]
  }
 ],
 "metadata": {
  "language_info": {
   "name": "python"
  }
 },
 "nbformat": 4,
 "nbformat_minor": 2
}
