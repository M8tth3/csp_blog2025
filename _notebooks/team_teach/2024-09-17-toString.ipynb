{
 "cells": [
  {
   "cell_type": "markdown",
   "metadata": {},
   "source": [
    "---\n",
    "layout: post\n",
    "title: toString Method\n",
    "description: Team Teach\n",
    "categories: ['Collaboration']\n",
    "courses: {'csse': {'week': 0}, 'csp': {'week': 0}, 'csa': {'week': 3}}\n",
    "type: collab\n",
    "submenu: nav/team_teach.html\n",
    "toc: True\n",
    "permalink: toString_method\n",
    "---"
   ]
  },
  {
   "cell_type": "markdown",
   "metadata": {},
   "source": [
    "## toString accessor method\n",
    "\n",
    "The toString method is an overridden method that is included in classes to provide a description of a specific object. It generally includes what values are stored in the instance data of the object.\n",
    "\n",
    "If System.out.print or System.out.printIn is passed an object, that object's toString method is called, and the returned string is printed\n",
    "\n",
    "## Example\n",
    "```\n",
    "private String name;\n",
    "private int numAthletes;\n",
    "\n",
    "public Sport(String n, int num)\n",
    "{\n",
    "    name = n;\n",
    "    numAthletes = num;\n",
    "}\n",
    "\n",
    "public String getname()\n",
    "{\n",
    "    return name;\n",
    "}\n",
    "\n",
    "public int getNumAthletes()\n",
    "{\n",
    "    return numAthletes;\n",
    "}\n",
    "```\n",
    "\n",
    "How to print out all info about an object?\n",
    "\n",
    "public static void main(String [] args)\n",
    "{\n",
    "    Sport volley = new Sport(\"Volleyball\", 12);\n",
    "    System.out.printIn(volley);\n",
    "    ## Not the info you want -> Object class and is the form classname@hashCode_in_Hexadecimal_form\n",
    "}\n",
    "\n",
    "To fix...\n",
    "toString method\n",
    "\n",
    "public String toString() -> cannot change this\n",
    "- Always returns string\n",
    "- no parameters\n",
    "- System.out.printIn(object) is called on an object:\n",
    "    - toString method is called\n",
    "    - returned string is printed\n",
    "```\n",
    "    public String toString()\n",
    "    {\n",
    "        return \"Sport:\" + name + \"\\nNumber of Athletes: \" + numAthletes;\n",
    "    }\n",
    "    System.out.printIn(volley);\n",
    "```\n"
   ]
  }
 ],
 "metadata": {
  "language_info": {
   "name": "python"
  }
 },
 "nbformat": 4,
 "nbformat_minor": 2
}
