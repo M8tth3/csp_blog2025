{
 "cells": [
  {
   "cell_type": "markdown",
   "metadata": {},
   "source": [
    "---\n",
    "layout: post\n",
    "title: Accessory Methods\n",
    "description: Team Teach\n",
    "categories: ['Collaboration']\n",
    "courses: {'csse': {'week': 0}, 'csp': {'week': 0}, 'csa': {'week': 3}}\n",
    "type: collab\n",
    "submenu: nav/team_teach.html\n",
    "toc: True\n",
    "permalink: access_methods\n",
    "---"
   ]
  },
  {
   "cell_type": "markdown",
   "metadata": {},
   "source": [
    "## What is an Accessory Method?\n",
    "\n",
    "An accessor method, also known as getter methods allows other objects to obtain the value of instance variables or **static** variables.\n",
    "\n",
    "## Purpose of Accessor Methods\n",
    "- Allows safe access to instance variables\n",
    "- Accessor Methods keep data access private and secure\n",
    "- If you need to access instance variables form a different class, accessor methods are necessary"
   ]
  },
  {
   "cell_type": "markdown",
   "metadata": {},
   "source": [
    "## Lets Make Our Own Accessor Methods"
   ]
  },
  {
   "cell_type": "code",
   "execution_count": 11,
   "metadata": {
    "vscode": {
     "languageId": "java"
    }
   },
   "outputs": [
    {
     "name": "stdout",
     "output_type": "stream",
     "text": [
      "Kevin\n",
      "4.1\n",
      "Sprout-Cut\n",
      "2\n"
     ]
    }
   ],
   "source": [
    "public class Minion\n",
    "{\n",
    "    // Start by defining instance variables that you'll want to access later via the accessor methods\n",
    "    private double height;\n",
    "    private String name;\n",
    "    private String hair;\n",
    "    private int eyes;\n",
    "\n",
    "    // Default Constructor\n",
    "    //String n, int c\n",
    "    public Minion()\n",
    "    {\n",
    "        height = 3.7;\n",
    "        name = \"Bob\";\n",
    "        hair = \"None\";\n",
    "        eyes = 2;\n",
    "    }\n",
    "\n",
    "    // Overloaded Constructor\n",
    "    public Minion(double h, String n, String hr, int e)\n",
    "    {\n",
    "        height = h;\n",
    "        name = n;\n",
    "        hair = hr;\n",
    "        eyes = e;\n",
    "    }\n",
    "    // Accessor Methods!\n",
    "    public double getHeight()\n",
    "    {\n",
    "        return height;\n",
    "    }\n",
    "    public String getName()\n",
    "    {\n",
    "        return name;\n",
    "    }\n",
    "    public String getHair()\n",
    "    {\n",
    "        return hair;\n",
    "    }\n",
    "    public int getEyes()\n",
    "    {\n",
    "        return eyes;\n",
    "    }\n",
    "}\n",
    "// Create minion object Kevin\n",
    "Minion kevin = new Minion(4.10,\"Kevin\",\"Sprout-Cut\",2);\n",
    "\n",
    "// Print Kevin's properties\n",
    "System.out.println(kevin.getName());\n",
    "System.out.println(kevin.getHeight());\n",
    "System.out.println(kevin.getHair());\n",
    "System.out.println(kevin.getEyes());"
   ]
  },
  {
   "cell_type": "markdown",
   "metadata": {},
   "source": [
    "## Things to keep in mind when creating your Accessor Methods\n",
    "- The accessor method must be public so that you can retrieve your instance variables outside of the class\n",
    "- The return Type must match the type of the instance variable accessed\n",
    "- The naming convention is often getNameOfVariable\n",
    "- There should be **no** parameters in your getter methods"
   ]
  },
  {
   "cell_type": "markdown",
   "metadata": {},
   "source": [
    "## Scope and Access\n",
    "\n",
    "## Accessory Methods\n",
    "\n",
    "- An accessor method allows other objects to obtain the value of instance variables or **static** variables\n",
    "\n",
    "- A non-void method returns a single value. Its header includes the **return** type in place of the keyword **void**\n",
    "\n",
    "- In non-void methods, a **return** expression compatible with the **return** type is evaluated, and a copy of that value is returned. Referred to as \"return by value\"\n",
    "\n",
    "### Purpose of Accessor methods\n",
    "- Allow safe access to instance variables\n",
    "- Instant variables are always private -> We don't want people to get them wihthout being careful\n",
    "- Often referred to as **get** methods\n",
    "- If you need a different class to access instance variables, accessor methods are necessary\n",
    "- When studying arrays, array lists, 2d arrays\n",
    "EX:\n",
    "``` \n",
    "public class Snack{\n",
    "    ## Instance variables\n",
    "    private String name;\n",
    "    private int calories;\n",
    "    \n",
    "    ## Default constructor\n",
    "    public Snack()\n",
    "    {\n",
    "        name=\"\"\n",
    "        calories = 0;\n",
    "    }\n",
    "\n",
    "    ## Overloaded constructor\n",
    "    public Snack(String n, int c)\n",
    "    {\n",
    "        name = n;\n",
    "        calories = c;\n",
    "    }\n",
    "\n",
    "    ## Accessor methods\n",
    "    public String getName()\n",
    "    {\n",
    "        return name;\n",
    "    }\n",
    "    public int getCalories()\n",
    "    {\n",
    "        return calories;\n",
    "    }\n",
    "}\n",
    "```\n",
    "### Accessor Headers\n",
    "- Must be public\n",
    "- Return Type must match the type of the instance variable accessed\n",
    "- Name is often getNameOfVariable\n",
    "- No parameters\n",
    "### Calling accessor methods\n",
    "```\n",
    "public static void main(String[] args)\n",
    "{\n",
    "    Pet p = new Pet(\"Abu\",\"cat\",14);\n",
    "    p.getName();\n",
    "    p.getTypeOfPet();\n",
    "\n",
    "    ## Print Statements\n",
    "    System.out.printIn(p.getName())\n",
    "}\n",
    "```\n"
   ]
  }
 ],
 "metadata": {
  "kernelspec": {
   "display_name": "Java",
   "language": "java",
   "name": "java"
  },
  "language_info": {
   "codemirror_mode": "java",
   "file_extension": ".jshell",
   "mimetype": "text/x-java-source",
   "name": "Java",
   "pygments_lexer": "java",
   "version": "11.0.24+8-post-Ubuntu-1ubuntu322.04"
  }
 },
 "nbformat": 4,
 "nbformat_minor": 2
}
