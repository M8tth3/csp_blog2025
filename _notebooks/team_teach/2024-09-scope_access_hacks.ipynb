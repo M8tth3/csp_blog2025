{
 "cells": [
  {
   "cell_type": "markdown",
   "metadata": {},
   "source": [
    "---\n",
    "layout: post\n",
    "title: Scope and Access\n",
    "description: Team Teach\n",
    "categories: ['Collaboration']\n",
    "courses: {'csse': {'week': 0}, 'csp': {'week': 0}, 'csa': {'week': 3}}\n",
    "type: collab\n",
    "submenu: nav/team_teach.html\n",
    "toc: True\n",
    "permalink: scope_access\n",
    "---"
   ]
  },
  {
   "cell_type": "markdown",
   "metadata": {},
   "source": [
    "## Scope and Access\n",
    "\n",
    "\n",
    "1. **Global Scope**\n",
    "- Variables and methods that are accessible from anywhere **within the class**. Within the class, each method can call an instance variable. \n",
    "\n",
    "2. **Local Scope**\n",
    "- Local variables can be declared in the body of constructors and methods. These variables may only be used within the constructor method and cannot be declared to be **public** or **private**\n",
    "\n",
    "- When there is a local variable with the same name as an instance variable, the variable name will refer to the local variable instead of the instance variable\n",
    "\n",
    "- Formal parameters and variables declared in a method or constructor can only be used within that method or constructor"
   ]
  },
  {
   "cell_type": "markdown",
   "metadata": {},
   "source": [
    "## Scope and Access\n",
    "\n",
    "\n",
    "### Instance variables vs local variables\n",
    "```\n",
    "public class Bowler\n",
    "{\n",
    "    ## Instance variables accessible anywhere in the class. Private therefore not accessible outside of class\n",
    "    private int totalPins;\n",
    "    private int games;\n",
    "\n",
    "    public Bowler(int pins)\n",
    "    {\n",
    "        ## Local variables that are the same name as the instance variables. Redeclares variables\n",
    "        int totalPins = pins;\n",
    "        int games = 3\n",
    "\n",
    "        Instead make sure to...\n",
    "        ## This will change value of instance variables\n",
    "        totalPins=pins;\n",
    "        games = 3;\n",
    "\n",
    "        public void update(int game1, int game2, int game3)\n",
    "        {\n",
    "            ## Local variable to add all instance variables\n",
    "            int newPins = game1 + game2 + game3;\n",
    "            ## References local variables\n",
    "            totalPins += newPins;\n",
    "\n",
    "        }\n",
    "    }\n",
    "}\n",
    "```"
   ]
  }
 ],
 "metadata": {
  "language_info": {
   "name": "python"
  }
 },
 "nbformat": 4,
 "nbformat_minor": 2
}
