{
 "cells": [
  {
   "cell_type": "markdown",
   "metadata": {},
   "source": [
    "---\n",
    "toc: True\n",
    "comments: True\n",
    "layout: post\n",
    "title: Website Brain Write\n",
    "description: This class will require you to make a Portfolio 2025 Web Site, a GitHub Account, a Slack Account, and as part of final exam will require you update your LinkedIn account.\n",
    "type: ccc\n",
    "permalink: brain\n",
    "menu: nav/home.html\n",
    "courses: { csa: {week: 0} }\n",
    "---"
   ]
  },
  {
   "cell_type": "markdown",
   "metadata": {},
   "source": [
    "## Brain Write For What I Want My Website To Be\n",
    "\n",
    "- Make a digital bathroom pass. There shouldn't be any paper in the CSA classroom. \n",
    "- Make a progress bar for swimming goals\n",
    "- Junior year is going to be a very hectic year so its important to have a scheduler. Combines all the class calendars I have access to and displays assignments on a master calendar.\n",
    "- Struggling to make breakfast. The other day I had plain chicken on a plain piece of bread. Display easy fast recipes(web scraping api)\n",
    "- Consistently update a \"tips\" page to log neat tips like creating an alias."
   ]
  },
  {
   "cell_type": "markdown",
   "metadata": {},
   "source": [
    "## Digital Bathroom Pass\n",
    "\n",
    "Using the bathroom is a basic human right that all students should be able to easily access. However, with the introduction of paper bathroom passes and less access to bathrooms this right has been infringed. \n",
    "\n",
    "That's why, we decided to make it easier to have access to the bathroom pass in our class where we can't use paper.\n",
    "<br>\n",
    "<img src=\"https://github.com/user-attachments/assets/d9191b7d-a523-456e-a615-b1dfb6ba36c1\" width='300px' height='auto'>\n",
    "<img src=\"https://github.com/user-attachments/assets/e2997034-3159-4f28-822c-23c5d3cf712a\" width='300px' height='auto'>\n",
    "\n"
   ]
  },
  {
   "cell_type": "markdown",
   "metadata": {},
   "source": [
    "<img src=\"https://github.com/user-attachments/assets/8223eaf0-9e69-4a7c-88d9-5da9e560d922\" width='300px' height='auto'>\n"
   ]
  },
  {
   "cell_type": "markdown",
   "metadata": {},
   "source": [
    "## Blogging My Passion\n",
    "I've always been deeply interested in foods. Specifically, sweets and peanut butter. It's a pretty fun combination. To reflect this on my blog, I want to make my sub menu blog revolve around those topics. I want to create blogs that have all the data and answers I need pertaining to those topics.\n",
    "\n",
    "Condensed Ideas:\n",
    "    Writing up blogs on Peanut butter and pastries\n",
    "    <br>\n",
    "    Pull Stats and Data on Peanut butter -> nutrition facts\n",
    "    <br>\n",
    "    Making a Chatbot that you can talk bout peanut butter with?\n",
    "    <br>\n",
    "    Expand to peanut butter cups possibly?\n",
    "    <br>\n",
    "    \n",
    "![image](https://github.com/user-attachments/assets/48ab1718-3d43-4895-b3d4-eedae90d1344)"
   ]
  },
  {
   "cell_type": "markdown",
   "metadata": {},
   "source": [
    "## Updating the theme\n",
    "I want to have a feature where the user can alternate cool looking themes from both config.yml and from SASS.\n",
    "\n",
    "I feel that a cyber-punk aesthetic would be really nice. However, it might hurt my eyes too much if the screen is too bright with glowing neon buttons."
   ]
  }
 ],
 "metadata": {
  "language_info": {
   "name": "python"
  }
 },
 "nbformat": 4,
 "nbformat_minor": 2
}
