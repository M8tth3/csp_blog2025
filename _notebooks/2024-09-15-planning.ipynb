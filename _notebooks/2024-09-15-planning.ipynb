{
 "cells": [
  {
   "cell_type": "markdown",
   "metadata": {},
   "source": [
    "---\n",
    "layout: post\n",
    "title: Planning Team Teach 1 + Good Practices\n",
    "description: Good Practicess\n",
    "categories: ['Collaboration']\n",
    "courses: {'csse': {'week': 0}, 'csp': {'week': 0}, 'csa': {'week': 3}}\n",
    "type: collab\n",
    "toc: True\n",
    "---\n"
   ]
  },
  {
   "cell_type": "markdown",
   "metadata": {},
   "source": [
    "**Description**: This document will be for planning our group’s presentation on College Board’s AP CSA Unit 5. It will be done in markdown format on this google document first so that all group members can work at the same time without causing merge conflicts, and pasting it into a notebook will be easy.\n",
    "**Group members**: Aashray, Lilian, Matthew, Tara, and Trevor\n",
    "**Scrum master**: Matthew\n",
    "**Template**: [Unit 5 Lesson Base](https://github.com/nighthawkcoders/portfolio_2025/blob/main/_notebooks/CSA/units_1_to_10/2024-06-24-unit_5.ipynb)\n",
    "## Version Control\n",
    "Team Practices to Ensure Minimal Conflicts + Easy Debugging\n",
    "Small incremental changes that can be easily and quickly tested to check the validity of the code. If something goes wrong, we can simply revert to a previous version utilizing **GitLens**. Also decreases the likelihood of **integration conflicts** because changes will be easier to track down and commits will be more specific. \n",
    "**Pull Requests**\n",
    "\t\t> Once commits are made, pull requests will give a descriptive overview of what \n",
    "task was completed in the fork/branch. Each **pull request should be reviewed** by a peer.\n",
    "To make a good pull request: [Github Docs](https://docs.github.com/en/pull-requests/collaborating-with-pull-requests/getting-started/best-practices-for-pull-requests)\n",
    "Commit messages: Properly documented changes in the form of descriptive messages\n",
    "Feat: new feature\n",
    "Fix: bug fix\n",
    "Test: testing\n",
    "Format: <type>: <description>\n",
    "EX: feat: added user authentication & each user can only react to a poll once\n",
    "Make very small commits, only completing one task or one fix. Makes it easier to make code reviews and reverts easier\n",
    "Make sure commits are grouped based on context. Make two separate commits if they are doing two separate things\n",
    "\n",
    "\n",
    "[**Code Reviews**](https://about.gitlab.com/topics/version-control/what-is-code-review/)\n",
    "Branching: Ask each teammate to cross-check whether a proposed piece of code solves the problem.\n",
    "Pull requests: Matthew will ensure that all pull requests to the portfolio_2025 repository are of quality.\n",
    "**No garbage commits.**\n",
    "\n",
    "\n",
    "\n",
    "\n",
    "## Aashray:\n",
    "Anatomy of a Class\n",
    "Constructors\n",
    "Popcorn Hacks\n",
    "## Tara:\n",
    "Accessory methods\n",
    "Mutator Methods\n",
    "Popcorn Hacks\n",
    "## Trevor:\n",
    "Writing methods\n",
    "Static Variables and Methods\n",
    "Popcorn Hacks\n",
    "## Matthew:\n",
    "Scope and Access\n",
    "This Keyword\n",
    "Popcorn Hacks\n",
    "## Lilian:\n",
    "Homework\n",
    "Accessory methods\n",
    "Anatomy of Class\n"
   ]
  }
 ],
 "metadata": {
  "language_info": {
   "name": "python"
  }
 },
 "nbformat": 4,
 "nbformat_minor": 2
}
