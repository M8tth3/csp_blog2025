{
 "cells": [
  {
   "cell_type": "markdown",
   "metadata": {},
   "source": [
    "## Brain Write For What I Want My Website To Be\n",
    "\n",
    "- Make a digital bathroom pass. There shouldn't be any paper in the CSA classroom, and we need to save the turtles. \n",
    "- Make a progress bar for swimming goals\n",
    "- Junior year is going to be a very hectic year so its important to have a scheduler. Combines all the class calendars I have access to and displays assignments on a master calendar.\n",
    "- Struggling to make breakfast. The other day I had plain chicken on a plain piece of bread. Display easy fast recipes(web scraping api)\n",
    "- Consistently update a \"tips\" page to log neat tips like creating an alias."
   ]
  },
  {
   "cell_type": "markdown",
   "metadata": {},
   "source": [
    "## Digital Bathroom Pass\n",
    "![image](https://github.com/user-attachments/assets/d9191b7d-a523-456e-a615-b1dfb6ba36c1)\n"
   ]
  }
 ],
 "metadata": {
  "language_info": {
   "name": "python"
  }
 },
 "nbformat": 4,
 "nbformat_minor": 2
}
