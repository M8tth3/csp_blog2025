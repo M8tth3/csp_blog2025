{
 "cells": [
  {
   "cell_type": "markdown",
   "metadata": {},
   "source": [
    "---\n",
    "toc: True\n",
    "comments: True\n",
    "layout: post\n",
    "title: Sprint 2 Recap\n",
    "description: Recapping Java College Board Units\n",
    "type: ccc\n",
    "courses: { csa: {week: 7} }\n",
    "---"
   ]
  },
  {
   "cell_type": "markdown",
   "metadata": {},
   "source": [
    "## Unit 1: Data Types\n",
    "- **Primitive Types:** Variable that stores a small amount of data, according to the type(not associated with a class)\n",
    "- **Reference Types:** Reference types store references to ``objects`` (ie classes, arrays, and interfaces)\n",
    "- Stack and Heap Memory"
   ]
  },
  {
   "cell_type": "markdown",
   "metadata": {},
   "source": [
    "## Unit 2: Using Objects\n",
    "- Create objects. Can use classes to create objects and reduce repetitive code by grouping attributes and behaviors together. Whoop whoop.\n",
    "- String Objects: Can be created in three different ways. String objects are immutable, every time a change is made, a new string object is created w updated val.\n",
    "- Wrapper Classes\n",
    "    - Double Wrapper Class\n",
    "    - Autoboxing and Unboxing"
   ]
  },
  {
   "cell_type": "markdown",
   "metadata": {},
   "source": [
    "## Unit 3: Boolean Expressions and if Statements\n",
    "- Java Operators\n",
    "- Compound boolean expressions\n",
    "- Short circuited evaluation"
   ]
  },
  {
   "cell_type": "markdown",
   "metadata": {},
   "source": [
    "## Unit 4: Iteration\n",
    "- Remember to initialize incrementing variable for regular for loop\n",
    "- ``for each`` loop"
   ]
  },
  {
   "cell_type": "markdown",
   "metadata": {},
   "source": [
    "## Unit 5: Writing Classes\n",
    "- Header\n",
    "- Instance variables\n",
    "- Constructors\n",
    "- Data Encapsulation w private instance variables\n",
    "- Static variables (do not belong to individual objects. belongs to class)"
   ]
  },
  {
   "cell_type": "markdown",
   "metadata": {},
   "source": [
    "## Unit 6: Arrays\n",
    "- Can't change length of array\n",
    "- Traversing arrays with for loop\n"
   ]
  },
  {
   "cell_type": "markdown",
   "metadata": {},
   "source": [
    "## Unit 7: ArrayList\n",
    "- Dynamic array(Can actually change the array length whoo)\n",
    "- SHould have only one type(Integer, String,etc) within the ArrayList\n",
    "- import java.util.ArrayList\n",
    "- Does not store primitives"
   ]
  },
  {
   "cell_type": "markdown",
   "metadata": {},
   "source": [
    "## Unit 8: 2D Array\n",
    "- Array within array\n",
    "- Nested for loop to iterate through matrix\n",
    "- defined with two sets of brackets(ex: ``int[][] ArrayName``)\n"
   ]
  },
  {
   "cell_type": "markdown",
   "metadata": {},
   "source": [
    "## Unit 9: Inheritance\n",
    "- Polymorphism\n",
    "- Compile time vs run time\n",
    "- Down casting\n",
    "- Superclass and subclass(use extends keyword)"
   ]
  }
 ],
 "metadata": {
  "language_info": {
   "name": "python"
  }
 },
 "nbformat": 4,
 "nbformat_minor": 2
}
